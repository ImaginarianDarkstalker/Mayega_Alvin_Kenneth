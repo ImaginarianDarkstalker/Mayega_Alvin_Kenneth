{
 "cells": [
  {
   "cell_type": "code",
   "execution_count": null,
   "id": "f480019e",
   "metadata": {},
   "outputs": [],
   "source": [
    "import numpy as np\n",
    "import pandas as pd\n",
    "import os\n",
    "import tensorflow as tf\n",
    "import matplotlib.pyplot as plt\n",
    "import seaborn as sns"
   ]
  },
  {
   "cell_type": "code",
   "execution_count": null,
   "id": "206923d2",
   "metadata": {},
   "outputs": [],
   "source": [
    "df = pd.read_csv(\"datasets/data.csv\")"
   ]
  },
  {
   "cell_type": "code",
   "execution_count": null,
   "id": "3544cfb1",
   "metadata": {},
   "outputs": [],
   "source": [
    "df.head(30)"
   ]
  },
  {
   "cell_type": "code",
   "execution_count": null,
   "id": "a704d912",
   "metadata": {},
   "outputs": [],
   "source": [
    "#Checking for null values\n",
    "print(df.isnull().sum())"
   ]
  },
  {
   "cell_type": "code",
   "execution_count": null,
   "id": "10c6506b",
   "metadata": {},
   "outputs": [],
   "source": [
    "#Checking for wrong formats\n",
    "print(df.dtypes)"
   ]
  },
  {
   "cell_type": "code",
   "execution_count": null,
   "id": "dea3cbbd",
   "metadata": {},
   "outputs": [],
   "source": [
    "#Checking for non-numeric values in numeric columns\n",
    "for column in [\"Duration\", \"Pulse\", \"Maxpulse\", \"Calories\"]:\n",
    "    if not pd.to_numeric(df[column], errors=\"coerce\").isnull().all():\n",
    "        print(f\"Non-numeric values found in column: {column}\")"
   ]
  },
  {
   "cell_type": "code",
   "execution_count": null,
   "id": "89e4cb05",
   "metadata": {},
   "outputs": [],
   "source": [
    "#Checking for wrong data, specifically for negative values in numeric columns\n",
    "for column in [\"Duration\", \"Pulse\", \"Maxpulse\", \"Calories\"]:\n",
    "    if (df[column] < 0).any():\n",
    "        print(f\"Negative values found in column: {column}\")\n",
    "        "
   ]
  },
  {
   "cell_type": "code",
   "execution_count": null,
   "id": "f386933d",
   "metadata": {},
   "outputs": [],
   "source": [
    "#Filling empty values\n",
    "for column in [\"Duration\", \"Pulse\", \"Maxpulse\", \"Calories\"]:\n",
    "    df[column] = df[column].fillna(df[column].mean())\n",
    "\n",
    "print(df.isnull().sum())"
   ]
  },
  {
   "cell_type": "code",
   "execution_count": null,
   "id": "81e05820",
   "metadata": {},
   "outputs": [],
   "source": [
    "df.describe()"
   ]
  },
  {
   "cell_type": "code",
   "execution_count": null,
   "id": "84350a5b",
   "metadata": {},
   "outputs": [],
   "source": [
    "#Plotting a histogram of MaxPulse and Calories\n",
    "ax = df[[\"Maxpulse\", \"Calories\"]].hist(figsize=(10, 4))\n",
    "\n",
    "for axis in ax.flatten():\n",
    "    axis.set_xlabel(\"Value\")\n",
    "    axis.set_ylabel(\"Frequency\")\n",
    "    \n",
    "plt.show()\n"
   ]
  }
 ],
 "metadata": {
  "kernelspec": {
   "display_name": "Python 3",
   "language": "python",
   "name": "python3"
  },
  "language_info": {
   "codemirror_mode": {
    "name": "ipython",
    "version": 3
   },
   "file_extension": ".py",
   "mimetype": "text/x-python",
   "name": "python",
   "nbconvert_exporter": "python",
   "pygments_lexer": "ipython3",
   "version": "3.12.4"
  }
 },
 "nbformat": 4,
 "nbformat_minor": 5
}
